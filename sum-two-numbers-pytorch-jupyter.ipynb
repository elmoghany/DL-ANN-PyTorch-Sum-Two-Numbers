{
 "cells": [
  {
   "cell_type": "code",
   "execution_count": 212,
   "metadata": {},
   "outputs": [],
   "source": [
    "import numpy as np\n",
    "import torch\n",
    "import torch.nn as nn\n",
    "import torch.nn.functional as F\n",
    "from torch.utils.data import DataLoader, TensorDataset\n",
    "from sklearn.model_selection import train_test_split\n",
    "import matplotlib.pyplot as plt"
   ]
  },
  {
   "cell_type": "code",
   "execution_count": 18,
   "metadata": {},
   "outputs": [
    {
     "name": "stdout",
     "output_type": "stream",
     "text": [
      "cuda\n"
     ]
    }
   ],
   "source": [
    "#GPU\n",
    "device = torch.device('cuda' if torch.cuda.is_available() else 'cpu')\n",
    "print(device)"
   ]
  },
  {
   "cell_type": "code",
   "execution_count": 93,
   "metadata": {},
   "outputs": [],
   "source": [
    "# Create the data\n",
    "a = np.round(  np.linspace(-10,10,num=10000)  )\n",
    "np.random.shuffle(a)\n",
    "\n",
    "b = np.round(  np.linspace(-10,10,num=10000)  )\n",
    "np.random.shuffle(b)\n",
    "\n",
    "sumAB = np.add(a, b)"
   ]
  },
  {
   "cell_type": "code",
   "execution_count": 125,
   "metadata": {},
   "outputs": [],
   "source": [
    "# Normalize the data\n",
    "aNorm    = a / np.max(a)\n",
    "bNorm    = b / np.max(b)\n",
    "sumNorm  = sumAB / np.max(sumAB)\n",
    "dataNorm = np.vstack((aNorm, bNorm)).T"
   ]
  },
  {
   "cell_type": "code",
   "execution_count": 127,
   "metadata": {},
   "outputs": [
    {
     "data": {
      "text/plain": [
       "(10000, 2)"
      ]
     },
     "execution_count": 127,
     "metadata": {},
     "output_type": "execute_result"
    }
   ],
   "source": [
    "dataNorm.shape"
   ]
  },
  {
   "cell_type": "code",
   "execution_count": 128,
   "metadata": {},
   "outputs": [
    {
     "data": {
      "text/plain": [
       "(10000,)"
      ]
     },
     "execution_count": 128,
     "metadata": {},
     "output_type": "execute_result"
    }
   ],
   "source": [
    "sumNorm.shape"
   ]
  },
  {
   "cell_type": "code",
   "execution_count": 192,
   "metadata": {},
   "outputs": [],
   "source": [
    "# Step1: Convert numpy data into tensor data\n",
    "xx = torch.tensor( dataNorm ).float()\n",
    "yy  = torch.tensor( sumNorm,  ).float()"
   ]
  },
  {
   "cell_type": "code",
   "execution_count": 194,
   "metadata": {},
   "outputs": [],
   "source": [
    "# Step2: use scikit learn to split the data\n",
    "train_data, test_data, train_labels, test_labels = train_test_split(xx, yy, test_size=0.1)"
   ]
  },
  {
   "cell_type": "code",
   "execution_count": 195,
   "metadata": {},
   "outputs": [],
   "source": [
    "# Step 3: Convert into PyTorch Datasets\n",
    "train_data = TensorDataset(train_data, train_labels)\n",
    "test_data  = TensorDataset(test_data , test_labels)"
   ]
  },
  {
   "cell_type": "code",
   "execution_count": 196,
   "metadata": {},
   "outputs": [
    {
     "data": {
      "text/plain": [
       "torch.Size([9000, 2])"
      ]
     },
     "execution_count": 196,
     "metadata": {},
     "output_type": "execute_result"
    }
   ],
   "source": [
    "train_data.tensors[0].shape"
   ]
  },
  {
   "cell_type": "code",
   "execution_count": 197,
   "metadata": {},
   "outputs": [
    {
     "data": {
      "text/plain": [
       "torch.Size([1000, 2])"
      ]
     },
     "execution_count": 197,
     "metadata": {},
     "output_type": "execute_result"
    }
   ],
   "source": [
    "test_data.tensors[0].shape"
   ]
  },
  {
   "cell_type": "code",
   "execution_count": 198,
   "metadata": {},
   "outputs": [],
   "source": [
    "# Step 4: Translate into dataloader objects\n",
    "batchsize    = 32\n",
    "train_loader = DataLoader(train_data, batch_size=batchsize, shuffle=True, drop_last=True)\n",
    "test_loader  = DataLoader(test_data,  batch_size=test_data.tensors[0].shape[0])"
   ]
  },
  {
   "cell_type": "code",
   "execution_count": 268,
   "metadata": {},
   "outputs": [],
   "source": [
    "# Create the Deep Learning Model\n",
    "def createTheSumABNet():\n",
    "    class sumABNet(nn.Module):\n",
    "        def __init__(self):\n",
    "            super().__init__()\n",
    "            \n",
    "            self.input = nn.Linear(2,20)\n",
    "            \n",
    "            # self.bnormHidden1 =  nn.BatchNorm1d(20)\n",
    "            self.hidden1 = nn.Linear(20,10)\n",
    "            \n",
    "            # self.bnormHidden2 =  nn.BatchNorm1d(10)\n",
    "            self.hidden2 = nn.Linear(10,5)\n",
    "            \n",
    "            self.output = nn.Linear(5,1)\n",
    "            \n",
    "        def forward(self, x):\n",
    "            \n",
    "            x = F.leaky_relu( self.input(x) )\n",
    "            \n",
    "            # x = self.bnormHidden1(x)\n",
    "            x = F.leaky_relu( self.hidden1(x) )\n",
    "\n",
    "            # x = self.bnormHidden2(x)\n",
    "            x = F.leaky_relu( self.hidden2(x) )\n",
    "                        \n",
    "            x = self.output(x)\n",
    "            \n",
    "            return x\n",
    "        \n",
    "    sumNet = sumABNet().to(device)\n",
    "    \n",
    "    lossfun = nn.MSELoss()\n",
    "    \n",
    "    optimizer = torch.optim.Adam(sumNet.parameters(), lr=0.001)#, betas=(0.9, 0.999), eps=1e-8)\n",
    "    \n",
    "    return sumNet, lossfun, optimizer"
   ]
  },
  {
   "cell_type": "code",
   "execution_count": 269,
   "metadata": {},
   "outputs": [
    {
     "name": "stdout",
     "output_type": "stream",
     "text": [
      "tensor([[0.9725, 0.0867]], device='cuda:0')\n"
     ]
    },
    {
     "data": {
      "text/plain": [
       "sumABNet(\n",
       "  (input): Linear(in_features=2, out_features=20, bias=True)\n",
       "  (hidden1): Linear(in_features=20, out_features=10, bias=True)\n",
       "  (hidden2): Linear(in_features=10, out_features=5, bias=True)\n",
       "  (output): Linear(in_features=5, out_features=1, bias=True)\n",
       ")"
      ]
     },
     "execution_count": 269,
     "metadata": {},
     "output_type": "execute_result"
    }
   ],
   "source": [
    "# test the model that is has NO ERRORS!\n",
    "\n",
    "sumNet, lossfun, optimizer = createTheSumABNet()\n",
    "\n",
    "input = torch.rand(1,2).to(device)\n",
    "sumNet.eval()\n",
    "sumNet(input)\n",
    "print(input)\n",
    "sumNet.train()"
   ]
  },
  {
   "cell_type": "code",
   "execution_count": 279,
   "metadata": {},
   "outputs": [],
   "source": [
    "# Train the Model\n",
    "\n",
    "def trainTheModel():\n",
    "    \n",
    "    #number of epochs to train\n",
    "    numepochs = 50\n",
    "    \n",
    "    #model instance\n",
    "    netSum, lossfun, optimizer = createTheSumABNet()\n",
    "    \n",
    "    #initialize losses & accuracy\n",
    "    losses   = torch.zeros(numepochs)\n",
    "    trainAcc = []\n",
    "    testAcc  = []\n",
    "    \n",
    "    for epochi in range(numepochs):\n",
    "        \n",
    "        #batch loss & accuracy\n",
    "        batchLoss = []\n",
    "        batchAcc  = []\n",
    "        \n",
    "        #loop over mini-batches\n",
    "        for X,y in train_loader:\n",
    "            \n",
    "            # push data to GPU\n",
    "            X = X.to(device)\n",
    "            y = y.to(device)\n",
    "            \n",
    "            #Forward pass & loss\n",
    "            yHat = netSum(X)\n",
    "            loss = lossfun(yHat, y)\n",
    "            \n",
    "            #backprop\n",
    "            optimizer.zero_grad()\n",
    "            loss.backward()\n",
    "            optimizer.step()\n",
    "            \n",
    "            #loss from this batch\n",
    "            batchLoss.append(loss.item())\n",
    "            \n",
    "            #accuracy from this batch\n",
    "            matches = torch.argmax(yHat,axis=1) == y ##????????????????\n",
    "            matchesNumeric = matches.float()\n",
    "            batchAcc.append( 100*torch.mean(matchesNumeric).item() )\n",
    "        \n",
    "        #average accuracy across mini-batches\n",
    "        trainAcc.append( np.mean(batchAcc) )\n",
    "        \n",
    "        #average losses across all mini-batches\n",
    "        losses[epochi] = np.mean(batchLoss)\n",
    "        \n",
    "        ################################\n",
    "        \n",
    "        #Test Accuracy\n",
    "        X,y = next(iter(test_loader))\n",
    "        \n",
    "        # push data to GPU\n",
    "        X = X.to(device)\n",
    "        y = y.to(device)\n",
    "\n",
    "        with torch.no_grad():\n",
    "            yHat = netSum(X)\n",
    "            \n",
    "        #compute the test accuracy\n",
    "        testMatches = (torch.argmax(yHat,axis=1) == y)\n",
    "        testMatchesNumeric = testMatches.float()\n",
    "        testAcc.append(100 * torch.mean( testMatchesNumeric).item() )\n",
    "    \n",
    "    return trainAcc, testAcc, losses, netSum"
   ]
  },
  {
   "cell_type": "code",
   "execution_count": 280,
   "metadata": {},
   "outputs": [
    {
     "name": "stderr",
     "output_type": "stream",
     "text": [
      "c:\\Users\\elmog\\AppData\\Local\\Programs\\Python\\Python311\\Lib\\site-packages\\torch\\nn\\modules\\loss.py:535: UserWarning: Using a target size (torch.Size([32])) that is different to the input size (torch.Size([32, 1])). This will likely lead to incorrect results due to broadcasting. Please ensure they have the same size.\n",
      "  return F.mse_loss(input, target, reduction=self.reduction)\n"
     ]
    }
   ],
   "source": [
    "# Test the training code that it has NO ERRORS\n",
    "trainAcc, testAcc, losses, netSum = trainTheModel()"
   ]
  },
  {
   "cell_type": "code",
   "execution_count": null,
   "metadata": {},
   "outputs": [
    {
     "data": {
      "text/plain": [
       "tensor([[-0.]], device='cuda:0', grad_fn=<RoundBackward0>)"
      ]
     },
     "execution_count": 278,
     "metadata": {},
     "output_type": "execute_result"
    }
   ],
   "source": [
    "x = torch.tensor([[1,2]]).float().to(device)\n",
    "yHat = torch.round(netSum(x))\n",
    "yHat"
   ]
  },
  {
   "cell_type": "code",
   "execution_count": null,
   "metadata": {},
   "outputs": [
    {
     "data": {
      "image/png": "[encoded data removed]",
      "text/plain": [
       "<Figure size 1000x500 with 2 Axes>"
      ]
     },
     "metadata": {},
     "output_type": "display_data"
    }
   ],
   "source": [
    "fig,ax = plt.subplots(1,2,figsize=(10,5))\n",
    "\n",
    "ax[0].plot(losses)\n",
    "ax[0].set_xlabel('Epochs')\n",
    "ax[0].set_ylabel('Loss')\n",
    "ax[0].set_title('Model Loss')\n",
    "\n",
    "ax[1].plot(trainAcc, label='Train')\n",
    "ax[1].plot(testAcc, label='Test')\n",
    "ax[1].legend()\n",
    "ax[1].set_xlabel('Epochs')\n",
    "ax[1].set_ylabel('Accuracy')\n",
    "ax[1].set_title(f'Test accuracy {testAcc[-1]:.2f}%')\n",
    "ax[1].set_ylim([0,100])\n",
    "\n",
    "plt.show()"
   ]
  },
  {
   "cell_type": "code",
   "execution_count": null,
   "metadata": {},
   "outputs": [],
   "source": []
  }
 ],
 "metadata": {
  "kernelspec": {
   "display_name": "Python 3",
   "language": "python",
   "name": "python3"
  },
  "language_info": {
   "codemirror_mode": {
    "name": "ipython",
    "version": 3
   },
   "file_extension": ".py",
   "mimetype": "text/x-python",
   "name": "python",
   "nbconvert_exporter": "python",
   "pygments_lexer": "ipython3",
   "version": "3.11.0"
  }
 },
 "nbformat": 4,
 "nbformat_minor": 2
}
